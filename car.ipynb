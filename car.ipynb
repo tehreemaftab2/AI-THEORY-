{
 "cells": [
  {
   "cell_type": "markdown",
   "id": "0a5f28b5",
   "metadata": {},
   "source": [
    "# CAR PRICE PREDICTION (Source: kaggle)\n",
    "A machine learning project to estimate car prices using features such as brand, year, engine size, mileage, fuel type, and transmission.  \n",
    "It follows steps for preprocessing, model training with Support Vector Regression (SVR), and storing the model with Pickle.\n",
    "\n",
    "---\n",
    "\n",
    "## Libraries Used\n",
    "\n",
    "---\n",
    "\n",
    "### ▸ pandas (pd)\n",
    "- Load and manage the dataset  \n",
    "- Handle cleaning, missing values, and tabular data  \n",
    "\n",
    "---\n",
    "\n",
    "### ▸ scikit-learn (sklearn)\n",
    "- **model_selection** → split dataset into train and test  \n",
    "- **svm** → Support Vector Regression (SVR)  \n",
    "- **preprocessing** → scaling numeric features, encoding categorical ones  \n",
    "- **pipeline** → chain preprocessing and model into one workflow  \n",
    "\n",
    "---\n",
    "\n",
    "### ▸ pickle\n",
    "- Save the trained model into `.pkl` format  \n",
    "- Reload model later without retraining  \n",
    "- Helps in deployment and reuse  \n",
    "\n",
    "\n"
   ]
  },
  {
   "cell_type": "code",
   "execution_count": null,
   "id": "243b7f33",
   "metadata": {},
   "outputs": [],
   "source": [
    "import pandas as pd\n",
    "import pickle\n",
    "from sklearn.model_selection import train_test_split\n",
    "from sklearn.svm import SVR\n",
    "from sklearn.preprocessing import StandardScaler\n",
    "from sklearn.pipeline import make_pipeline"
   ]
  },
  {
   "cell_type": "markdown",
   "id": "849541c2",
   "metadata": {},
   "source": [
    "\n",
    "# CLASS 01 : DATA COLLECTION & PREPROCESSING\n"
   ]
  },
  {
   "cell_type": "code",
   "execution_count": null,
   "id": "b79cd5da",
   "metadata": {},
   "outputs": [],
   "source": [
    "class Data:\n",
    "    \"\"\"\n",
    "    Class: Data\n",
    "    Purpose:\n",
    "        - Step 1: Data Understanding\n",
    "        - Step 2: Data Preprocessing\n",
    "    \"\"\"\n",
    "\n",
    "    def __init__(self, file_path):\n",
    "        self.file_path = file_path\n",
    "        self.data = None\n",
    "\n",
    "    def load_data(self):\n",
    "        \"\"\"\n",
    "        Function Name: load_data\n",
    "        Purpose: Load dataset from CSV file\n",
    "        \"\"\"\n",
    "        self.data = pd.read_csv(self.file_path)\n",
    "        return self.data\n",
    "\n",
    "    def head(self, n=5):\n",
    "        \"\"\"\n",
    "        Function Name: head\n",
    "        Purpose: Return top rows of dataset\n",
    "        \"\"\"\n",
    "        return self.data.head(n)\n",
    "\n",
    "    def describe(self):\n",
    "        \"\"\"\n",
    "        Function Name: describe\n",
    "        Purpose: Show summary statistics\n",
    "        \"\"\"\n",
    "        return self.data.describe()\n",
    "\n",
    "    def missing_values(self):\n",
    "        \"\"\"\n",
    "        Function Name: missing_values\n",
    "        Purpose: Show count of missing values\n",
    "        \"\"\"\n",
    "        return self.data.isnull().sum()\n",
    "\n",
    "    def duplicate_rows(self):\n",
    "        \"\"\"\n",
    "        Function Name: duplicate_rows\n",
    "        Purpose: Count duplicate rows\n",
    "        \"\"\"\n",
    "        return self.data.duplicated().sum()\n",
    "\n",
    "    def columns(self):\n",
    "        \"\"\"\n",
    "        Function Name: columns\n",
    "        Purpose: Return list of column names\n",
    "        \"\"\"\n",
    "        return self.data.columns.tolist()\n",
    "\n",
    "    def shape(self):\n",
    "        \"\"\"\n",
    "        Function Name: shape\n",
    "        Purpose: Return dataset shape\n",
    "        \"\"\"\n",
    "        return self.data.shape\n",
    "\n",
    "    def datatypes(self):\n",
    "        \"\"\"\n",
    "        Function Name: datatypes\n",
    "        Purpose: Return data types of columns\n",
    "        \"\"\"\n",
    "        return self.data.dtypes\n",
    "\n",
    "    def drop_duplicates(self):\n",
    "        \"\"\"\n",
    "        Function Name: drop_duplicates\n",
    "        Purpose: Remove duplicate rows\n",
    "        \"\"\"\n",
    "        self.data.drop_duplicates(inplace=True)\n",
    "        return self.data\n",
    "\n",
    "    def drop_columns(self, cols):\n",
    "        \"\"\"\n",
    "        Function Name: drop_columns\n",
    "        Purpose: Drop unnecessary columns\n",
    "        \"\"\"\n",
    "        self.data.drop(columns=cols, inplace=True, errors=\"ignore\")\n",
    "        return self.data\n",
    "\n",
    "    def fill_missing_mean(self):\n",
    "        \"\"\"\n",
    "        Function Name: fill_missing_mean\n",
    "        Purpose: Fill numeric missing values with mean\n",
    "        \"\"\"\n",
    "        self.data.fillna(self.data.mean(numeric_only=True), inplace=True)\n",
    "\n",
    "    def fill_missing_mode(self):\n",
    "        \"\"\"\n",
    "        Function Name: fill_missing_mode\n",
    "        Purpose: Fill missing values with mode\n",
    "        \"\"\"\n",
    "        self.data.fillna(self.data.mode().iloc[0], inplace=True)\n",
    "\n",
    "    \n",
    "\n",
    "    def get_data(self):\n",
    "        \"\"\"\n",
    "        Function Name: get_data\n",
    "        Purpose: Return processed dataset\n",
    "        \"\"\"\n",
    "        return self.data\n"
   ]
  },
  {
   "cell_type": "markdown",
   "id": "b102ab4b",
   "metadata": {},
   "source": [
    "\n",
    "# CLASS 02 : DATA SPLITTING\n"
   ]
  },
  {
   "cell_type": "code",
   "execution_count": 12,
   "id": "af88b242",
   "metadata": {},
   "outputs": [],
   "source": [
    "class Model:\n",
    "    \"\"\"\n",
    "    Class: Model\n",
    "    Purpose: Splits the dataset into training and testing sets\n",
    "    \"\"\"\n",
    "\n",
    "    def __init__(self, data, target_column):\n",
    "        \"\"\"\n",
    "        Function Name: __init__\n",
    "        Purpose: Initialize Model with dataset and target column\n",
    "        \"\"\"\n",
    "        self.data = data\n",
    "        self.target_column = target_column\n",
    "        self.X_train, self.X_test, self.y_train, self.y_test = None, None, None, None\n",
    "\n",
    "    def split(self, test_size=0.2, random_state=42):\n",
    "        \"\"\"\n",
    "        Function Name: split\n",
    "        Purpose: Split dataset into training and testing sets\n",
    "        \"\"\"\n",
    "        X = self.data.drop(columns=[self.target_column])\n",
    "        y = self.data[self.target_column]\n",
    "        self.X_train, self.X_test, self.y_train, self.y_test = train_test_split(\n",
    "            X, y, test_size=test_size, random_state=random_state\n",
    "        )\n",
    "        return self.X_train, self.X_test, self.y_train, self.y_test\n"
   ]
  },
  {
   "cell_type": "markdown",
   "id": "6b6ebb91",
   "metadata": {},
   "source": [
    "\n",
    "# CLASS 03 : MODEL TRAINING (SVR)\n"
   ]
  },
  {
   "cell_type": "code",
   "execution_count": null,
   "id": "5bb02a92",
   "metadata": {},
   "outputs": [],
   "source": [
    "class Price:\n",
    "    \"\"\"\n",
    "    Class: Price\n",
    "    Purpose: Train Support Vector Regression (SVR) model for car price prediction\n",
    "    \"\"\"\n",
    "\n",
    "    def __init__(self, df):\n",
    "        \"\"\"\n",
    "        Function Name: __init__\n",
    "        Purpose: Initialize Price class and clean dataset\n",
    "        \"\"\"\n",
    "        self.df = df.copy()\n",
    "        self.model = None\n",
    "        self.X_train = self.X_test = self.y_train = self.y_test = None\n",
    "\n",
    "        # Drop unnecessary columns\n",
    "        if \"Car ID\" in self.df.columns:\n",
    "            self.df.drop(\"Car ID\", axis=1, inplace=True)\n",
    "\n",
    "    def split_data(self):\n",
    "        \"\"\"\n",
    "        Function Name: split_data\n",
    "        Purpose: Split dataset into training and testing sets\n",
    "        \"\"\"\n",
    "        X = self.df.drop(\"Price\", axis=1)\n",
    "        y = self.df[\"Price\"]\n",
    "        self.X_train, self.X_test, self.y_train, self.y_test = train_test_split(X, y, test_size=0.2, random_state=42)\n",
    "\n",
    "    def train_model(self):\n",
    "        \"\"\"\n",
    "        Function Name: train_model\n",
    "        Purpose: Train SVR model with StandardScaler pipeline\n",
    "        \"\"\"\n",
    "        self.model = make_pipeline(StandardScaler(), SVR(kernel=\"rbf\"))\n",
    "        self.model.fit(self.X_train, self.y_train)\n",
    "        print(\"Model R² Score:\", self.model.score(self.X_test, self.y_test))\n",
    "        return self.model\n",
    "\n",
    "    def get_model(self):\n",
    "        \"\"\"\n",
    "        Function Name: get_model\n",
    "        Purpose: Return trained SVR model\n",
    "        \"\"\"\n",
    "        return self.model\n",
    "\n",
    "    def predict(self, X):\n",
    "        \"\"\"\n",
    "        Function Name: predict\n",
    "        Purpose: Predict car prices using trained SVR model\n",
    "        \"\"\"\n",
    "        return self.model.predict(X)\n"
   ]
  },
  {
   "cell_type": "markdown",
   "id": "106c9571",
   "metadata": {},
   "source": [
    "\n",
    "# CLASS 04 : PICKLE SAVE & LOAD\n"
   ]
  },
  {
   "cell_type": "code",
   "execution_count": 14,
   "id": "746b75d5",
   "metadata": {},
   "outputs": [],
   "source": [
    "import pickle\n",
    "\n",
    "class Store:\n",
    "    \"\"\"\n",
    "    Class: Store\n",
    "    Purpose: Save and load trained model using pickle\n",
    "    \"\"\"\n",
    "\n",
    "    def __init__(self, model):\n",
    "        \"\"\"\n",
    "        Function Name: __init__\n",
    "        Purpose: Initialize Store class with trained model\n",
    "        \"\"\"\n",
    "        self.model = model\n",
    "\n",
    "    def save(self, file_path=\"svm_car_model.pkl\"):\n",
    "        \"\"\"\n",
    "        Function Name: save\n",
    "        Purpose: Save trained model to a pickle file\n",
    "        \"\"\"\n",
    "        with open(file_path, \"wb\") as f:\n",
    "            pickle.dump(self.model, f)\n",
    "\n",
    "    def load(self, file_path=\"svm_car_model.pkl\"):\n",
    "        \"\"\"\n",
    "        Function Name: load\n",
    "        Purpose: Load trained model from a pickle file\n",
    "        \"\"\"\n",
    "        with open(file_path, \"rb\") as f:\n",
    "            return pickle.load(f)\n"
   ]
  },
  {
   "cell_type": "markdown",
   "id": "d13710a3",
   "metadata": {},
   "source": [
    "# MAIN EXECUTION :"
   ]
  },
  {
   "cell_type": "markdown",
   "id": "ec006f82",
   "metadata": {},
   "source": [
    "# DATA LOAD"
   ]
  },
  {
   "cell_type": "code",
   "execution_count": 10,
   "id": "e5b3d6e1",
   "metadata": {},
   "outputs": [
    {
     "name": "stdout",
     "output_type": "stream",
     "text": [
      "<class 'pandas.core.frame.DataFrame'>\n",
      "RangeIndex: 2500 entries, 0 to 2499\n",
      "Data columns (total 10 columns):\n",
      " #   Column        Non-Null Count  Dtype  \n",
      "---  ------        --------------  -----  \n",
      " 0   Car ID        2500 non-null   int64  \n",
      " 1   Brand         2500 non-null   object \n",
      " 2   Year          2500 non-null   int64  \n",
      " 3   Engine Size   2500 non-null   float64\n",
      " 4   Fuel Type     2500 non-null   object \n",
      " 5   Transmission  2500 non-null   object \n",
      " 6   Mileage       2500 non-null   int64  \n",
      " 7   Condition     2500 non-null   object \n",
      " 8   Price         2500 non-null   float64\n",
      " 9   Model         2500 non-null   object \n",
      "dtypes: float64(2), int64(3), object(5)\n",
      "memory usage: 195.4+ KB\n"
     ]
    },
    {
     "data": {
      "text/plain": [
       "(   Car ID  Brand  Year  Engine Size Fuel Type Transmission  Mileage Condition  \\\n",
       " 0       1  Tesla  2016          2.3    Petrol       Manual   114832       New   \n",
       " 1       2    BMW  2018          4.4  Electric       Manual   143190      Used   \n",
       " 2       3   Audi  2013          4.5  Electric       Manual   181601       New   \n",
       " 3       4  Tesla  2011          4.1    Diesel    Automatic    68682       New   \n",
       " 4       5   Ford  2009          2.6    Diesel       Manual   223009  Like New   \n",
       " \n",
       "       Price     Model  \n",
       " 0  26613.92   Model X  \n",
       " 1  14679.61  5 Series  \n",
       " 2  44402.61        A4  \n",
       " 3  86374.33   Model Y  \n",
       " 4  73577.10   Mustang  ,\n",
       " ['Car ID',\n",
       "  'Brand',\n",
       "  'Year',\n",
       "  'Engine Size',\n",
       "  'Fuel Type',\n",
       "  'Transmission',\n",
       "  'Mileage',\n",
       "  'Condition',\n",
       "  'Price',\n",
       "  'Model'])"
      ]
     },
     "execution_count": 10,
     "metadata": {},
     "output_type": "execute_result"
    }
   ],
   "source": [
    "\n",
    "\n",
    "# Load the uploaded car price dataset\n",
    "df = pd.read_csv(\"carpriceEXCEL.csv\")\n",
    "\n",
    "# Show first few rows and column details\n",
    "df_head = df.head()\n",
    "df_info = df.info()\n",
    "df_columns = df.columns.tolist()\n",
    "\n",
    "df_head, df_columns\n"
   ]
  },
  {
   "cell_type": "markdown",
   "id": "69a002f6",
   "metadata": {},
   "source": [
    "# STEP 01 : DATA UNDERSTANDING & PREPROCESSING"
   ]
  },
  {
   "cell_type": "code",
   "execution_count": null,
   "id": "5c8008c1",
   "metadata": {},
   "outputs": [
    {
     "name": "stdout",
     "output_type": "stream",
     "text": [
      "First rows:\n",
      "    Car ID  Brand  Year  Engine Size Fuel Type Transmission  Mileage Condition  \\\n",
      "0       1  Tesla  2016          2.3    Petrol       Manual   114832       New   \n",
      "1       2    BMW  2018          4.4  Electric       Manual   143190      Used   \n",
      "2       3   Audi  2013          4.5  Electric       Manual   181601       New   \n",
      "3       4  Tesla  2011          4.1    Diesel    Automatic    68682       New   \n",
      "4       5   Ford  2009          2.6    Diesel       Manual   223009  Like New   \n",
      "\n",
      "      Price     Model  \n",
      "0  26613.92   Model X  \n",
      "1  14679.61  5 Series  \n",
      "2  44402.61        A4  \n",
      "3  86374.33   Model Y  \n",
      "4  73577.10   Mustang  \n",
      "Missing values:\n",
      " Car ID          0\n",
      "Brand           0\n",
      "Year            0\n",
      "Engine Size     0\n",
      "Fuel Type       0\n",
      "Transmission    0\n",
      "Mileage         0\n",
      "Condition       0\n",
      "Price           0\n",
      "Model           0\n",
      "dtype: int64\n",
      "Duplicates: 0\n",
      "Processed Data:\n",
      "    Brand  Year  Engine Size  Fuel Type  Transmission  Mileage  Condition  \\\n",
      "0      5  2016          2.3          3             1   114832          1   \n",
      "1      1  2018          4.4          1             1   143190          2   \n",
      "2      0  2013          4.5          1             1   181601          1   \n",
      "3      5  2011          4.1          0             0    68682          1   \n",
      "4      2  2009          2.6          0             1   223009          0   \n",
      "\n",
      "      Price  Model  \n",
      "0  26613.92     19  \n",
      "1  14679.61      1  \n",
      "2  44402.61      3  \n",
      "3  86374.33     20  \n",
      "4  73577.10     21  \n"
     ]
    }
   ],
   "source": [
    "h = Data(\"carpriceEXCEL.csv\")\n",
    "df = h.load_data()\n",
    "print(\"First rows:\\n\", h.head())\n",
    "print(\"Missing values:\\n\", h.missing_values())\n",
    "print(\"Duplicates:\", h.duplicate_rows())\n",
    "h.drop_columns([\"Car ID\"]) # Drop unused column\n",
    "h.fill_missing_mean() \n",
    "h.fill_missing_mode() # Fill missing values if any\n",
    "clean_data = h.encode_categorical()# Encode categorical columns\n",
    "print(\"Processed Data:\\n\", clean_data.head())"
   ]
  },
  {
   "cell_type": "markdown",
   "id": "8f441d6a",
   "metadata": {},
   "source": [
    "  # STEP 02 : DATA SPLITTING"
   ]
  },
  {
   "cell_type": "code",
   "execution_count": 15,
   "id": "f3b69a60",
   "metadata": {},
   "outputs": [
    {
     "name": "stdout",
     "output_type": "stream",
     "text": [
      "X_train data: (2000, 8)\n",
      "X_test data: (500, 8)\n"
     ]
    }
   ],
   "source": [
    "splitter = Model(clean_data, target_column=\"Price\")\n",
    "X_train, X_test, y_train, y_test = splitter.split()\n",
    "print(\"X_train data:\", X_train.shape)\n",
    "print(\"X_test data:\", X_test.shape)"
   ]
  },
  {
   "cell_type": "markdown",
   "id": "16aaa5fd",
   "metadata": {},
   "source": [
    "  # STEP 03 : MODEL TRAINING"
   ]
  },
  {
   "cell_type": "code",
   "execution_count": 30,
   "id": "c646cdd8",
   "metadata": {},
   "outputs": [
    {
     "name": "stdout",
     "output_type": "stream",
     "text": [
      "Model R² Score: -1.539635878922141e-05\n"
     ]
    }
   ],
   "source": [
    "model_trainer = Price(clean_data)\n",
    "model_trainer.split_data()\n",
    "trained_model = model_trainer.train_model()"
   ]
  },
  {
   "cell_type": "markdown",
   "id": "366cefa7",
   "metadata": {},
   "source": [
    "# STEP 04 : SAVE & LOAD MODEL"
   ]
  },
  {
   "cell_type": "code",
   "execution_count": 31,
   "id": "2e796c74",
   "metadata": {},
   "outputs": [
    {
     "name": "stdout",
     "output_type": "stream",
     "text": [
      "Model save successfully!\n"
     ]
    }
   ],
   "source": [
    "store_obj = Store(trained_model)\n",
    "store_obj.save(\"svm_car_model.pkl\")\n",
    "loaded_model = store_obj.load(\"svm_car_model.pkl\")\n",
    "print(\"Model save successfully!\")"
   ]
  },
  {
   "cell_type": "code",
   "execution_count": null,
   "id": "5156bdcd",
   "metadata": {},
   "outputs": [],
   "source": []
  },
  {
   "cell_type": "code",
   "execution_count": null,
   "id": "d0371b12",
   "metadata": {},
   "outputs": [],
   "source": []
  },
  {
   "cell_type": "code",
   "execution_count": null,
   "id": "e77bf7b8",
   "metadata": {},
   "outputs": [],
   "source": []
  },
  {
   "cell_type": "code",
   "execution_count": null,
   "id": "00268acb",
   "metadata": {},
   "outputs": [],
   "source": []
  }
 ],
 "metadata": {
  "kernelspec": {
   "display_name": "base",
   "language": "python",
   "name": "python3"
  },
  "language_info": {
   "codemirror_mode": {
    "name": "ipython",
    "version": 3
   },
   "file_extension": ".py",
   "mimetype": "text/x-python",
   "name": "python",
   "nbconvert_exporter": "python",
   "pygments_lexer": "ipython3",
   "version": "3.12.7"
  }
 },
 "nbformat": 4,
 "nbformat_minor": 5
}
